{
  "nbformat": 4,
  "nbformat_minor": 0,
  "metadata": {
    "colab": {
      "name": "Aimbot.ipynb",
      "provenance": [],
      "collapsed_sections": []
    },
    "kernelspec": {
      "name": "python3",
      "display_name": "Python 3"
    },
    "accelerator": "GPU"
  },
  "cells": [
    {
      "cell_type": "code",
      "metadata": {
        "id": "72UTxHGnDz6S",
        "colab_type": "code",
        "colab": {}
      },
      "source": [
        "from keras.models import Sequential\n",
        "from keras.layers import Dense, Flatten, Conv2D, MaxPooling2D\n",
        "from keras.utils import to_categorical\n",
        "import numpy as np\n",
        "from joblib import load\n",
        "import matplotlib.pyplot as plt\n",
        "import cv2"
      ],
      "execution_count": 0,
      "outputs": []
    },
    {
      "cell_type": "code",
      "metadata": {
        "id": "ndEMStgkYRpV",
        "colab_type": "code",
        "colab": {}
      },
      "source": [
        "# Load Models Dataset\n",
        "categories = [\"ct\", \"tr\"]\n",
        "\n",
        "csgo_models_dataset = load(\"data_set\")\n",
        "\n",
        "x_train = []\n",
        "y_train = []\n",
        "\n",
        "for x,y in csgo_models_dataset:\n",
        "    x_train.append(cv2.cvtColor(x, cv2.COLOR_BGR2RGB))\n",
        "    y_train.append([y])\n",
        "\n",
        "x_train = np.array(x_train)\n",
        "y_train = np.array(y_train)"
      ],
      "execution_count": 0,
      "outputs": []
    },
    {
      "cell_type": "code",
      "metadata": {
        "id": "LZyeXdhlZgGk",
        "colab_type": "code",
        "colab": {
          "base_uri": "https://localhost:8080/",
          "height": 54
        },
        "outputId": "21e23e4b-1454-499c-ffd8-86ad87dfb08b"
      },
      "source": [
        "#Show Dataset Shape \n",
        "print(\"x_train = \",x_train.shape)\n",
        "print(\"y_train = \",y_train.shape)"
      ],
      "execution_count": 33,
      "outputs": [
        {
          "output_type": "stream",
          "text": [
            "x_train =  (333, 50, 50, 3)\n",
            "y_train =  (333, 1)\n"
          ],
          "name": "stdout"
        }
      ]
    },
    {
      "cell_type": "code",
      "metadata": {
        "id": "f7q-AYRAaIBI",
        "colab_type": "code",
        "colab": {
          "base_uri": "https://localhost:8080/",
          "height": 285
        },
        "outputId": "6663a01d-44a7-4e49-c4a0-cef137628acc"
      },
      "source": [
        "#Show image sample\n",
        "sample_index = 0\n",
        "print(\"image label: \",categories[y_train[sample_index][0]])\n",
        "img = plt.imshow(x_train[sample_index])"
      ],
      "execution_count": 49,
      "outputs": [
        {
          "output_type": "stream",
          "text": [
            "image label:  ct\n"
          ],
          "name": "stdout"
        },
        {
          "output_type": "display_data",
          "data": {
            "image/png": "[encoded data removed]",
            "text/plain": [
              "<Figure size 432x288 with 1 Axes>"
            ]
          },
          "metadata": {
            "tags": []
          }
        }
      ]
    },
    {
      "cell_type": "code",
      "metadata": {
        "id": "CS3JJqelcp0A",
        "colab_type": "code",
        "colab": {
          "base_uri": "https://localhost:8080/",
          "height": 90
        },
        "outputId": "924af521-962c-46d9-ac17-1163af60896b"
      },
      "source": [
        "#One-Hot Encoding\n",
        "y_train_one_hot = to_categorical(y_train)\n",
        "print(y_train_one_hot[:4])"
      ],
      "execution_count": 52,
      "outputs": [
        {
          "output_type": "stream",
          "text": [
            "[[1. 0.]\n",
            " [0. 1.]\n",
            " [0. 1.]\n",
            " [0. 1.]]\n"
          ],
          "name": "stdout"
        }
      ]
    },
    {
      "cell_type": "code",
      "metadata": {
        "id": "0GIGe2KldPNz",
        "colab_type": "code",
        "colab": {}
      },
      "source": [
        "#Normalize pixels in the images\n",
        "x_train = x_train / 255"
      ],
      "execution_count": 0,
      "outputs": []
    },
    {
      "cell_type": "code",
      "metadata": {
        "id": "jot47RZNdmzx",
        "colab_type": "code",
        "colab": {}
      },
      "source": [
        "#Build the CNN\n",
        "model = Sequential()\n",
        "model.add( Conv2D(32, (5,5), activation=\"relu\", input_shape = (50, 50, 3)) )\n",
        "model.add( MaxPooling2D(pool_size=(2,2)) )\n",
        "model.add( Conv2D(32, (5,5), activation=\"relu\") )\n",
        "model.add( MaxPooling2D(pool_size=(2,2)) )\n",
        "model.add( Flatten() )\n",
        "model.add( Dense(1000, activation=\"relu\") )\n",
        "model.add( Dense(2, activation=\"softmax\") )"
      ],
      "execution_count": 0,
      "outputs": []
    },
    {
      "cell_type": "code",
      "metadata": {
        "id": "iNoBVrgDfck7",
        "colab_type": "code",
        "colab": {}
      },
      "source": [
        "#Compile Model\n",
        "model.compile(optimizer=\"adam\", loss=\"categorical_crossentropy\", metrics=[\"accuracy\"])"
      ],
      "execution_count": 0,
      "outputs": []
    },
    {
      "cell_type": "code",
      "metadata": {
        "id": "BpTmtTpof_a7",
        "colab_type": "code",
        "colab": {
          "base_uri": "https://localhost:8080/",
          "height": 419
        },
        "outputId": "75b8afca-f522-490b-a57c-028789390d88"
      },
      "source": [
        "#Train the Model\n",
        "hist = model.fit(x_train, y_train_one_hot, batch_size=333, epochs=10, validation_split=0.3)"
      ],
      "execution_count": 60,
      "outputs": [
        {
          "output_type": "stream",
          "text": [
            "Train on 233 samples, validate on 100 samples\n",
            "Epoch 1/10\n",
            "233/233 [==============================] - 0s 206us/step - loss: 0.6237 - acc: 0.7210 - val_loss: 0.6080 - val_acc: 0.7700\n",
            "Epoch 2/10\n",
            "233/233 [==============================] - 0s 154us/step - loss: 0.5994 - acc: 0.7597 - val_loss: 0.5914 - val_acc: 0.7500\n",
            "Epoch 3/10\n",
            "233/233 [==============================] - 0s 159us/step - loss: 0.5774 - acc: 0.7382 - val_loss: 0.5607 - val_acc: 0.7700\n",
            "Epoch 4/10\n",
            "233/233 [==============================] - 0s 157us/step - loss: 0.5474 - acc: 0.8155 - val_loss: 0.5353 - val_acc: 0.7800\n",
            "Epoch 5/10\n",
            "233/233 [==============================] - 0s 167us/step - loss: 0.5143 - acc: 0.8498 - val_loss: 0.5220 - val_acc: 0.8300\n",
            "Epoch 6/10\n",
            "233/233 [==============================] - 0s 156us/step - loss: 0.4855 - acc: 0.8283 - val_loss: 0.5025 - val_acc: 0.7600\n",
            "Epoch 7/10\n",
            "233/233 [==============================] - 0s 154us/step - loss: 0.4649 - acc: 0.8326 - val_loss: 0.4994 - val_acc: 0.8000\n",
            "Epoch 8/10\n",
            "233/233 [==============================] - 0s 144us/step - loss: 0.4366 - acc: 0.8584 - val_loss: 0.4557 - val_acc: 0.8100\n",
            "Epoch 9/10\n",
            "233/233 [==============================] - 0s 158us/step - loss: 0.3883 - acc: 0.8927 - val_loss: 0.4501 - val_acc: 0.8200\n",
            "Epoch 10/10\n",
            "233/233 [==============================] - 0s 136us/step - loss: 0.3684 - acc: 0.8970 - val_loss: 0.4862 - val_acc: 0.8200\n"
          ],
          "name": "stdout"
        }
      ]
    },
    {
      "cell_type": "code",
      "metadata": {
        "id": "OH9ae2pBgll_",
        "colab_type": "code",
        "colab": {
          "base_uri": "https://localhost:8080/",
          "height": 54
        },
        "outputId": "f5a04647-63b6-4703-a15d-92bb704b46f2"
      },
      "source": [
        "#Trying to predict something\n",
        "index = 60\n",
        "\n",
        "img = x_train[index]\n",
        "print(\"image label: \",categories[y_train[index][0]])\n",
        "\n",
        "model.predict(np.array([img,]))"
      ],
      "execution_count": 67,
      "outputs": [
        {
          "output_type": "stream",
          "text": [
            "image label:  tr\n"
          ],
          "name": "stdout"
        },
        {
          "output_type": "execute_result",
          "data": {
            "text/plain": [
              "array([[0.07783789, 0.9221621 ]], dtype=float32)"
            ]
          },
          "metadata": {
            "tags": []
          },
          "execution_count": 67
        }
      ]
    }
  ]
}